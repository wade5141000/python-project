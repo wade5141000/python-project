{
 "cells": [
  {
   "cell_type": "code",
   "execution_count": 1,
   "metadata": {
    "scrolled": false
   },
   "outputs": [
    {
     "data": {
      "application/vnd.jupyter.widget-view+json": {
       "model_id": "77b7f848f0474a348133394245566fd4",
       "version_major": 2,
       "version_minor": 0
      },
      "text/plain": [
       "interactive(children=(Dropdown(description='country', options={'美國': 'US', '日本': 'JP', '加拿大': 'CA', '德國': 'DE'…"
      ]
     },
     "metadata": {},
     "output_type": "display_data"
    },
    {
     "data": {
      "text/plain": [
       "<function __main__.loadData(country)>"
      ]
     },
     "execution_count": 1,
     "metadata": {},
     "output_type": "execute_result"
    }
   ],
   "source": [
    "#-*- coding : utf-8 -*-\n",
    "# coding: utf-8\n",
    "\n",
    "# 507170536 吳韋德 \n",
    "# 507170524 張亞亭\n",
    "\n",
    "import pandas as pd\n",
    "from ipywidgets import *\n",
    "import json\n",
    "import glob\n",
    "import os\n",
    "from google_trans_new import google_translator\n",
    "from IPython.display import display\n",
    "from IPython.display import clear_output as clear\n",
    "\n",
    "\n",
    "csv_df = None # 使用全域變數紀錄讀取的資料，方便其他 functon 使用\n",
    "category_mapping = {} # 紀錄影片類別的字典 { id:類別 }\n",
    "country_mapping = dict(美國='US', 日本='JP', 加拿大='CA', 德國='DE', 法國='FR',\n",
    "                       英國='GB', 印度='IN', 墨西哥='MX', 南韓='KR', 全部='ALL')\n",
    "country_mapping_revert = {v: k for k, v in country_mapping.items()} # 反轉 country_mapping，查詢使用\n",
    "result = None # 資料分析的結果，提供給產出報表用\n",
    "\n",
    "# 讀取紀錄影片類別的 json 檔案，並將結構轉換成字典 { id:類別 } 方便後續使用\n",
    "def loadJson():\n",
    "    path = 'data/US_category_id.json'\n",
    "    global category_mapping\n",
    "    with open(path, 'r') as obj:\n",
    "        json_data = json.load(obj)\n",
    "        for item in json_data['items']:\n",
    "            id = int(item['id'])\n",
    "            if(id not in category_mapping):\n",
    "                category_mapping[id] = item['snippet']['title']\n",
    "\n",
    "# 根據給定的參數資料，顯示前 n 筆資料，輸入參數為 (篩選的欄位, 要顯示幾筆, 排序:遞增或遞減 )\n",
    "def show_top_n(properties, top_n, sort):\n",
    "    csv_df[properties] = csv_df[properties].astype(int) # 資料型態轉成數字\n",
    "    show_columns = ['title', properties]\n",
    "    if len(csv_df.index) > 100000:\n",
    "        show_columns.append('country')\n",
    "    global result\n",
    "    result = csv_df.sort_values(properties, ascending = sort)[show_columns]\n",
    "    new_columns = []\n",
    "    columns_mapping = {'title':'標題','views':'觀看次數','likes':'喜歡','dislikes':'不喜歡','comment_count':'留言數','country':'國家'}\n",
    "    for column in result.columns:\n",
    "        new_column = columns_mapping[column]\n",
    "        new_columns.append(new_column)\n",
    "    result.columns = new_columns\n",
    "    display(result.head(top_n))\n",
    "\n",
    "# 根據 video_id 欄位，移除重複的影片\n",
    "def remove_duplicates():\n",
    "    csv_df.drop_duplicates(subset='video_id', keep='last', inplace=True) # 有重複資料選擇最後一筆，並且直接替換舊的資料\n",
    "    total = len(csv_df.index)\n",
    "    return total\n",
    "\n",
    "\n",
    "# 讀取影片資料(.csv)，參數為 ( 要讀取的國家 )\n",
    "def loadData(country):\n",
    "    global csv_df\n",
    "    if country=='ALL':\n",
    "        all_country_data =[]\n",
    "        path = os.getcwd() + '\\\\data' # 設定資料的資料夾路徑\n",
    "        path = os.path.abspath(path)  # 讀取指定資料夾內所有的 csv 路徑\n",
    "        csv_paths = glob.glob(os.path.join(path, '*.csv')) # 讀取指定資料夾內所有的 csv 路徑組成 list\n",
    "        print('已從 data 資料夾中讀取影片資料，資料處理中...\\n')\n",
    "        # 使用 for in 讀取每個 csv，在使用 concat 方法將所有 dataframe 接起來\n",
    "        for f in csv_paths:\n",
    "            print('\\t'+f)\n",
    "             # 找出是哪個國家的資料 ---- start\n",
    "            strs = f.split('\\\\')\n",
    "            fileName = strs[len(strs)-1]\n",
    "            country_code = fileName.replace('videos.csv','')\n",
    "            country_name = country_mapping_revert[country_code]\n",
    "             # 找出是哪個國家的資料 ---- end\n",
    "                \n",
    "            temp_csv_df = pd.read_csv(f, encoding = 'utf-8', sep=',', error_bad_lines=False) # 讀取 csv\n",
    "            \n",
    "            # 在原本的 dataframe 新增國家的欄位 ---- start\n",
    "            count = len(temp_csv_df.index)\n",
    "            country_names = [country_name] * count\n",
    "            temp_csv_df['country'] = country_names\n",
    "            # 在原本的 dataframe 新增國家的欄位 ---- end\n",
    "            \n",
    "            all_country_data.append(temp_csv_df)\n",
    "        csv_df = pd.concat(all_country_data) # 將每個國家的 dataframe 資料組合起來\n",
    "        print('========================================================================================================\\n')\n",
    "        total = len(csv_df.index) # 原始資料量\n",
    "        print('\\n讀取' + country_mapping_revert[country] +'的影片資料，資料數量： ' + format(total,','))\n",
    "        print('\\n========================================================================================================\\n')\n",
    "        new_total = remove_duplicates() # 移除重複的資料\n",
    "        print('移除重複的資料，新的資料數量：' + format(new_total,','))\n",
    "        print('\\n========================================================================================================\\n')\n",
    "        interact(show_top_n, properties=dict(觀看次數='views', 喜歡='likes', 不喜歡='dislikes', 留言數='comment_count'),\n",
    "         top_n=(1,20), sort=dict(遞增=False, 遞減=True)) # 建立一個下拉選單，可以選擇屬性、資料筆數、排序方式，最後過濾出資料\n",
    "    else:\n",
    "        path = 'data/' + country + 'videos.csv'\n",
    "        # 因為有多個語系，要設定 encoding = utf-8；原始資料某幾列的資料欄位數不對，會無法讀取，因此增加 error_bad_lines 忽略錯誤欄位\n",
    "        csv_df = pd.read_csv(path, encoding = 'utf-8', sep=',', error_bad_lines=False) # 讀取 csv\n",
    "        print('========================================================================================================\\n')\n",
    "        total = len(csv_df.index) # 原始資料量\n",
    "        print('讀取' + country_mapping_revert[country] +'的影片資料，資料數量： ' + format(total,','))\n",
    "        print('\\n========================================================================================================\\n')\n",
    "        new_total = remove_duplicates() # 移除重複的資料\n",
    "        \n",
    "        print('移除重複的資料，新的資料數量：' + format(new_total,','))\n",
    "        print('\\n========================================================================================================\\n')\n",
    "        # 集中程度計算：(原始資料量 - 去重複後資料量) / 原始資料量 * 100\n",
    "        concentrated = round(((total - new_total) / total) * 100, 2)\n",
    "        print('熱門影片集中程度：' + str(concentrated) + '%')\n",
    "        print('\\n========================================================================================================\\n')\n",
    "        interact(show_top_n, properties=dict(觀看次數='views', 喜歡='likes', 不喜歡='dislikes', 留言數='comment_count'),\n",
    "         top_n=(1,20), sort=dict(遞增=False, 遞減=True)) # 建立一個下拉選單，可以選擇屬性、資料筆數、排序方式，最後過濾出資料\n",
    "\n",
    "loadJson() # 讀取存放影片類別的檔案(.json)\n",
    "\n",
    "interact(loadData, country=country_mapping) # 建立一個下拉選單，可以選擇國家，並讀取該國家的影片資料"
   ]
  },
  {
   "cell_type": "code",
   "execution_count": 2,
   "metadata": {
    "scrolled": false
   },
   "outputs": [
    {
     "data": {
      "application/vnd.jupyter.widget-view+json": {
       "model_id": "c7ad499ba2a64b69b9b3425ce3346422",
       "version_major": 2,
       "version_minor": 0
      },
      "text/plain": [
       "interactive(children=(Dropdown(description='country', options={'美國': 'US', '日本': 'JP', '加拿大': 'CA', '德國': 'DE'…"
      ]
     },
     "metadata": {},
     "output_type": "display_data"
    },
    {
     "data": {
      "text/plain": [
       "<function __main__.findCategorys(country)>"
      ]
     },
     "execution_count": 2,
     "metadata": {},
     "output_type": "execute_result"
    }
   ],
   "source": [
    "categorys = {} # 每個類別的數量紀錄\n",
    "\n",
    "# 根據類別 id 找出對應類別\n",
    "def findCategoryById(id):\n",
    "    global categorys\n",
    "    global category_mapping\n",
    "    title = category_mapping[id]\n",
    "    if title in categorys: # 如果類別已經在字典裡，數量加 1\n",
    "        categorys[title] = categorys[title]+1\n",
    "    else: # 如果類別沒有在字典裡，新增類別\n",
    "        categorys[title] = 1\n",
    "\n",
    "# 根據國別統計熱門影片的類別偏好\n",
    "def findCategorys(country):\n",
    "    global categorys\n",
    "    categorys = {}\n",
    "    path = 'data/' + country + 'videos.csv'\n",
    "    data_df = pd.read_csv(path, encoding = 'utf-8', sep=',', error_bad_lines=False) # 讀取 csv 資料\n",
    "    data_df2 = data_df.drop_duplicates(subset='video_id', keep='last') # 去除重複資料\n",
    "    for index, row in data_df2.iterrows():\n",
    "        findCategoryById(row['category_id']) # 每一筆資料使用 findCategoryById 函式找出對應的類別\n",
    "    print('統計影片數量：' + str(len(data_df2.index)))\n",
    "    sorted_result = sorted(categorys.items(), key=lambda x:x[1], reverse=True) # 使用 lambda 函式，根據字典的 value 排序\n",
    "    sorted_result_list = list(sorted_result)\n",
    "    \n",
    "    translator = google_translator() # 啟動 google 翻譯\n",
    "    translate_data = []\n",
    "    for cate in sorted_result_list:\n",
    "        translate_text = translator.translate(cate[0], lang_src='en', lang_tgt='zh-tw') # 翻譯英文成繁體中文\n",
    "        translate_data.append(translate_text)\n",
    "    global result\n",
    "    result = pd.DataFrame(sorted_result_list, columns=['影片類別', '數量']) # 轉換成 dataframe\n",
    "    result['類別中文'] = translate_data # 新增 dataframe 欄位\n",
    "    display(result) \n",
    "\n",
    "interact(findCategorys, country=dict(美國=\"US\", 日本=\"JP\", 加拿大='CA', 德國='DE', 法國='FR',\n",
    "                                英國='GB', 印度='IN', 墨西哥='MX', 南韓='KR'))\n"
   ]
  },
  {
   "cell_type": "code",
   "execution_count": 3,
   "metadata": {
    "scrolled": false
   },
   "outputs": [
    {
     "data": {
      "application/vnd.jupyter.widget-view+json": {
       "model_id": "9c5faed6f5a14589940df3a4a2e0fb7f",
       "version_major": 2,
       "version_minor": 0
      },
      "text/plain": [
       "interactive(children=(Dropdown(description='country', options={'美國': 'US', '日本': 'JP', '加拿大': 'CA', '德國': 'DE'…"
      ]
     },
     "metadata": {},
     "output_type": "display_data"
    },
    {
     "data": {
      "text/plain": [
       "<function __main__.findAuthors(country)>"
      ]
     },
     "execution_count": 3,
     "metadata": {},
     "output_type": "execute_result"
    }
   ],
   "source": [
    "authors = {} # 每個作者的影片數量\n",
    "data_df2 = None\n",
    "\n",
    "# 根據輸入值 n 可以決定要顯示的資料筆數\n",
    "def show_result(top_n):\n",
    "    global data_df2 # 使用全域變數\n",
    "    total = len(data_df2.index)\n",
    "    print('統計數量：' + str(total))\n",
    "    sorted_result = sorted(authors.items(), key=lambda x:x[1], reverse=True) # 使用 lambda 函式，根據字典的 value 排序\n",
    "    sorted_result_list = list(sorted_result)\n",
    "    global result\n",
    "    result = pd.DataFrame(sorted_result_list, columns=['作者', '數量'])\n",
    "    display(result.head(top_n)) # 產生 dataframe 並顯示\n",
    "\n",
    "# 根據國別統計熱門影片的作者排名\n",
    "def findAuthors(country):\n",
    "    global authors # 使用全域變數\n",
    "    global data_df2 # 使用全域變數\n",
    "    path = 'data/' + country + 'videos.csv'\n",
    "    data_df = pd.read_csv(path, encoding = 'utf-8', sep=',', error_bad_lines=False)  # 讀取 csv 資料\n",
    "    data_df2 = data_df.drop_duplicates(subset='video_id', keep='last') # 去除重複資料\n",
    "    authors = {}\n",
    "    for index, row in data_df2.iterrows(): # 迭代每一筆 dataframe\n",
    "        author = row['channel_title']\n",
    "        if author in authors: # 如果作者已經在字典裡，數量加 1\n",
    "            authors[author] = authors[author]+1\n",
    "        else:\n",
    "            authors[author] = 1 # 如果作者沒有在字典裡，新增作者\n",
    "    interact(show_result, top_n=(1,20)) # 提供數量選單，讓使用者決定顯示資料筆數\n",
    "    \n",
    "    \n",
    "interact(findAuthors, country=dict(美國=\"US\", 日本=\"JP\", 加拿大='CA', 德國='DE', 法國='FR',\n",
    "                                英國='GB', 印度='IN', 墨西哥='MX', 南韓='KR'))"
   ]
  },
  {
   "cell_type": "code",
   "execution_count": 4,
   "metadata": {
    "scrolled": true
   },
   "outputs": [
    {
     "data": {
      "application/vnd.jupyter.widget-view+json": {
       "model_id": "06403ae272864da69091b848abeaab69",
       "version_major": 2,
       "version_minor": 0
      },
      "text/plain": [
       "interactive(children=(Dropdown(description='country', options={'美國': 'US', '日本': 'JP', '加拿大': 'CA', '德國': 'DE'…"
      ]
     },
     "metadata": {},
     "output_type": "display_data"
    },
    {
     "data": {
      "text/plain": [
       "<function __main__.comprehensive(country)>"
      ]
     },
     "execution_count": 4,
     "metadata": {},
     "output_type": "execute_result"
    }
   ],
   "source": [
    "\n",
    "# 找出綜合評分最高的影片\n",
    "def comprehensive(country):\n",
    "    \n",
    "    path = 'data/' + country + 'videos.csv'\n",
    "    # 因為有多個語系，要設定 encoding = utf-8；原始資料某幾列的資料欄位數不對，會無法讀取，因此增加 error_bad_lines 忽略錯誤欄位\n",
    "    data_df = pd.read_csv(path, encoding = 'utf-8', sep=',', error_bad_lines=False) # 讀取 csv\n",
    "    new_data_df = data_df.drop_duplicates(subset='video_id', keep='last') # 有重複資料選擇最後一筆\n",
    "    \n",
    "    total_views = new_data_df['views'].sum() # 這個 dataframe 的總觀看數\n",
    "    total_like = new_data_df['likes'].sum() # 這個 dataframe 的總喜歡數\n",
    "    total_dislike = new_data_df['dislikes'].sum() # 這個 dataframe 的總不喜歡數\n",
    "    total_comment = new_data_df['comment_count'].sum() # 這個 dataframe 的總評論數\n",
    "    \n",
    "    data_size = len(new_data_df.index)\n",
    "    \n",
    "    print('平均觀看次數：'+ format(round(total_views / data_size),','))\n",
    "    print('平均喜歡人數：'+ format(round(total_like / data_size),','))\n",
    "    print('平均不喜歡人數：'+ format(round(total_dislike / data_size),','))\n",
    "    print('平均評論數：'+ format(round(total_comment / data_size),','))\n",
    "    \n",
    "    likes = total_like - total_dislike\n",
    "    \n",
    "    view_point = likes / total_views # 計算每個觀看次數值多少分\n",
    "    like_point = 1 # 使用喜歡的數量當作基準值 1\n",
    "    comment_point = likes / total_comment # 計算每個評論值多少分\n",
    "    \n",
    "    new_data_df['point'] = 0 # 初始化欄位 point\n",
    "    \n",
    "    # 計算每筆資料的分數\n",
    "    def cal_point(row):\n",
    "        point = 0\n",
    "        point += (row['likes'] - row['dislikes']) * like_point # 計算喜歡分數\n",
    "        point += row['views'] * view_point # 計算觀看分數\n",
    "        point += row['comment_count'] * comment_point # 計算評論數分數\n",
    "        row['point'] = point / 10000\n",
    "        return row\n",
    "    new_data_df = new_data_df.apply(cal_point, axis=1) # 針對每個欄位執行給定的方法\n",
    "    global result\n",
    "    result = new_data_df.sort_values('point', ascending = False)[['title','point','views','likes','dislikes','comment_count']]\n",
    "    display(result.head(10))\n",
    "    \n",
    "interact(comprehensive, country=dict(美國=\"US\", 日本=\"JP\", 加拿大='CA', 德國='DE', 法國='FR',\n",
    "                                英國='GB', 印度='IN', 墨西哥='MX', 南韓='KR'))\n"
   ]
  },
  {
   "cell_type": "code",
   "execution_count": 5,
   "metadata": {
    "scrolled": false
   },
   "outputs": [
    {
     "data": {
      "application/vnd.jupyter.widget-view+json": {
       "model_id": "0bbb9b754f9c4f74945d8991bebd0b3f",
       "version_major": 2,
       "version_minor": 0
      },
      "text/plain": [
       "Dropdown(description='報表類型：', options=('Excel', 'Csv', 'Json'), value='Excel')"
      ]
     },
     "metadata": {},
     "output_type": "display_data"
    },
    {
     "data": {
      "application/vnd.jupyter.widget-view+json": {
       "model_id": "437c3ce15690420cb2f910588fc49fce",
       "version_major": 2,
       "version_minor": 0
      },
      "text/plain": [
       "HBox(children=(Button(description='導出報表', style=ButtonStyle()),))"
      ]
     },
     "metadata": {},
     "output_type": "display_data"
    },
    {
     "data": {
      "application/vnd.jupyter.widget-view+json": {
       "model_id": "2d2c3ab672284ffe9bc34bba5f8d8da2",
       "version_major": 2,
       "version_minor": 0
      },
      "text/plain": [
       "HBox(children=(Button(description='預覽資料', style=ButtonStyle()),))"
      ]
     },
     "metadata": {},
     "output_type": "display_data"
    }
   ],
   "source": [
    "global result\n",
    "report_type = 'Excel' # 導出的報表類別，預設是 Excel\n",
    "\n",
    "# 切換選單時執行這個方法，修改 report_type\n",
    "def choice_type(change):\n",
    "    global report_type\n",
    "    report_type = change.new\n",
    "\n",
    "# 建立下拉選單並監聽 change 事件\n",
    "option_list = ('Excel', 'Csv', 'Json')\n",
    "dropdown = Dropdown(description=\"報表類型：\", options=option_list)\n",
    "dropdown.observe(choice_type, names='value')\n",
    "display(dropdown)\n",
    "\n",
    "# 點導出報表按鈕時執行這個方法，根據 report_type 產生對應的格式\n",
    "def on_export(b):\n",
    "    clear()\n",
    "    display(dropdown)\n",
    "    display(HBox([exportBtn]))\n",
    "    display(HBox([previewBtn]))\n",
    "    global report_type\n",
    "    if report_type == 'Excel':\n",
    "        print('導出 Excel 報表')\n",
    "        result.to_excel('report.xls', sheet_name='sheet1')\n",
    "    elif report_type == 'Csv':\n",
    "        print('導出 Csv 報表')\n",
    "        result.to_csv('report.csv')\n",
    "    else:\n",
    "        print('導出 Json 報表')\n",
    "        with open('report.json', 'w', encoding='utf-8') as file:\n",
    "            result.to_json(file, orient='index', force_ascii=False)\n",
    "        \n",
    "# 建立導出報表按鈕，並監聽 click 事件\n",
    "exportBtn = Button(description=\"導出報表\")\n",
    "exportBtn.on_click(on_export)\n",
    "display(HBox([exportBtn]))\n",
    "\n",
    "# 點預覽資料按鈕時執行這個方法，顯示 result 的資料內容\n",
    "def on_preview(b):\n",
    "    clear()\n",
    "    display(dropdown)\n",
    "    display(HBox([exportBtn]))\n",
    "    display(HBox([previewBtn]))\n",
    "    display(result)\n",
    "\n",
    "# 建立導出報表按鈕，並監聽 click 事件\n",
    "previewBtn = Button(description=\"預覽資料\")\n",
    "previewBtn.on_click(on_preview)\n",
    "display(HBox([previewBtn]))"
   ]
  },
  {
   "cell_type": "code",
   "execution_count": 6,
   "metadata": {
    "scrolled": false
   },
   "outputs": [
    {
     "data": {
      "application/vnd.jupyter.widget-view+json": {
       "model_id": "38bc4ddbb5224e5e808af17e0fd1c55f",
       "version_major": 2,
       "version_minor": 0
      },
      "text/plain": [
       "interactive(children=(Dropdown(description='kind', options={'柱狀圖': 'bar', '橫向柱狀圖': 'barh', '派餅圖': 'pie'}, valu…"
      ]
     },
     "metadata": {},
     "output_type": "display_data"
    },
    {
     "data": {
      "text/plain": [
       "<function __main__.draw(kind)>"
      ]
     },
     "execution_count": 6,
     "metadata": {},
     "output_type": "execute_result"
    }
   ],
   "source": [
    "import warnings\n",
    "warnings.filterwarnings('ignore') # 隱藏錯誤訊息\n",
    "\n",
    "global result\n",
    "\n",
    "indexes = ['title', '標題', '影片類別', '作者'] # 圖的欄位\n",
    "numbers = ['觀看次數','喜歡','不喜歡','留言數','point', '數量'] # 圖的資料\n",
    "index = 0\n",
    "df_to_draw = None\n",
    "\n",
    "# 使用 while 加上例外處理，尋找要繪製的資料內，欄位的正確名字\n",
    "while True:\n",
    "    try:\n",
    "        df_to_draw = result.set_index(indexes[index])\n",
    "        break\n",
    "    except KeyError:\n",
    "        index += 1\n",
    "    except:\n",
    "        print('something wrong')\n",
    "        break\n",
    "\n",
    "df_to_draw = df_to_draw.head(10) # 取前 10 筆資料繪圖\n",
    "\n",
    "# 根據不同的圖表類別，繪製圖表\n",
    "def draw(kind):\n",
    "    n_index = 0\n",
    "    # 使用 while 加上例外處理，尋找要繪製的資料內，資料的正確名字\n",
    "    while True:\n",
    "        try:\n",
    "            df_to_draw[numbers[n_index]].plot(kind=kind)\n",
    "            break\n",
    "        except KeyError:\n",
    "            n_index += 1\n",
    "        except:\n",
    "            print('something wrong')\n",
    "            break\n",
    "\n",
    "interact(draw, kind=dict(柱狀圖=\"bar\", 橫向柱狀圖=\"barh\", 派餅圖=\"pie\"))"
   ]
  },
  {
   "cell_type": "code",
   "execution_count": null,
   "metadata": {},
   "outputs": [],
   "source": []
  }
 ],
 "metadata": {
  "kernelspec": {
   "display_name": "Python 3",
   "language": "python",
   "name": "python3"
  },
  "language_info": {
   "codemirror_mode": {
    "name": "ipython",
    "version": 3
   },
   "file_extension": ".py",
   "mimetype": "text/x-python",
   "name": "python",
   "nbconvert_exporter": "python",
   "pygments_lexer": "ipython3",
   "version": "3.8.5"
  }
 },
 "nbformat": 4,
 "nbformat_minor": 4
}