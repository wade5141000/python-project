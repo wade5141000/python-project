{
 "cells": [
  {
   "cell_type": "code",
   "execution_count": 12,
   "metadata": {
    "scrolled": false
   },
   "outputs": [
    {
     "data": {
      "application/vnd.jupyter.widget-view+json": {
       "model_id": "7a2ead86296e4cd8b06f70ab3ba78b64",
       "version_major": 2,
       "version_minor": 0
      },
      "text/plain": [
       "interactive(children=(Dropdown(description='country', options={'美國': 'US', '日本': 'JP', '加拿大': 'CA', '德國': 'DE'…"
      ]
     },
     "metadata": {},
     "output_type": "display_data"
    },
    {
     "data": {
      "application/vnd.jupyter.widget-view+json": {
       "model_id": "1a907dcafc304c7e8ea376461a4d50de",
       "version_major": 2,
       "version_minor": 0
      },
      "text/plain": [
       "interactive(children=(Dropdown(description='properties', options={'觀看次數': 'views', '喜歡': 'likes', '不喜歡': 'disl…"
      ]
     },
     "metadata": {},
     "output_type": "display_data"
    },
    {
     "data": {
      "text/plain": [
       "<function __main__.show_top_n(properties, top_n, sort)>"
      ]
     },
     "execution_count": 12,
     "metadata": {},
     "output_type": "execute_result"
    }
   ],
   "source": [
    "#-*- coding : utf-8 -*-\n",
    "# coding: utf-8\n",
    "\n",
    "import pandas as pd\n",
    "from ipywidgets import interact\n",
    "import json\n",
    "import glob\n",
    "import os\n",
    "\n",
    "csv_df = None\n",
    "category_mapping = {}\n",
    "\n",
    "def loadJson():\n",
    "    path = 'data/US_category_id.json'\n",
    "    global category_mapping\n",
    "    with open(path, 'r') as obj:\n",
    "        json_data = json.load(obj)\n",
    "        for item in json_data['items']:\n",
    "            id = int(item['id'])\n",
    "            if(id not in category_mapping):\n",
    "                category_mapping[id] = item['snippet']['title']\n",
    "\n",
    "def draw():\n",
    "    print('draw...')\n",
    "\n",
    "def show_top_n(properties, top_n, sort):\n",
    "    print(csv_df.sort_values(properties, ascending = sort)[[properties]].head(top_n))\n",
    "    draw()\n",
    "\n",
    "def remove_duplicates():\n",
    "    csv_df.drop_duplicates(subset='video_id', keep='first', inplace=True)\n",
    "    csv_df.info()\n",
    "    print('total size: ' + str(len(csv_df.index)))\n",
    "    \n",
    "def loadData(country):\n",
    "    global csv_df\n",
    "    if country=='ALL':\n",
    "        return False\n",
    "#         path_domestic = os.path.abspath(os.getcwd()) + '/data'\n",
    "#         non_domestic = glob.glob(os.path.join(path_domestic, '*.csv'))\n",
    "#         csv_df = pd.concat((pd.read_csv(f, encoding = 'utf-8', sep=',', error_bad_lines=False) for f in non_domestic))\n",
    "#         csv_df = csv_df.set_index('title')\n",
    "#         csv_df.info()\n",
    "#         remove_duplicates()\n",
    "    else:\n",
    "        \n",
    "        path = 'data/' + country + 'videos.csv'\n",
    "        csv_df = pd.read_csv(path, encoding = 'utf-8', sep=',', error_bad_lines=False)\n",
    "        csv_df = csv_df.set_index('title')\n",
    "        csv_df.info()\n",
    "        print('total size: ' + str(len(csv_df.index)))\n",
    "        print('\\n========================================================================================================\\n')\n",
    "        remove_duplicates()\n",
    "        print('\\n========================================================================================================\\n')\n",
    "\n",
    "loadJson()\n",
    "\n",
    "interact(loadData, country=dict(美國=\"US\", 日本=\"JP\", 加拿大='CA', 德國='DE', 法國='FR',\n",
    "                                英國='GB', 印度='IN', 墨西哥='MX', 南韓='KR', 俄羅斯='RU', 全部='ALL'))\n",
    "\n",
    "interact(show_top_n, properties=dict(觀看次數='views', 喜歡='likes', 不喜歡='dislikes', 留言數量='comment_count'),\n",
    "         top_n=(1,20), sort=dict(遞增=False, 遞減=True))"
   ]
  },
  {
   "cell_type": "code",
   "execution_count": 2,
   "metadata": {
    "scrolled": false
   },
   "outputs": [
    {
     "data": {
      "application/vnd.jupyter.widget-view+json": {
       "model_id": "1fb2a46d63ad4bf58db8b9e536f8e510",
       "version_major": 2,
       "version_minor": 0
      },
      "text/plain": [
       "interactive(children=(Dropdown(description='country', options={'美國': 'US', '日本': 'JP', '加拿大': 'CA', '德國': 'DE'…"
      ]
     },
     "metadata": {},
     "output_type": "display_data"
    },
    {
     "data": {
      "text/plain": [
       "<function __main__.findCategorys(country)>"
      ]
     },
     "execution_count": 2,
     "metadata": {},
     "output_type": "execute_result"
    }
   ],
   "source": [
    "categorys = {}\n",
    "\n",
    "def findCategoryById(id):\n",
    "    global categorys\n",
    "    global category_mapping\n",
    "    title = category_mapping[id]\n",
    "    if title in categorys:\n",
    "        categorys[title] = categorys[title]+1\n",
    "    else:\n",
    "        categorys[title] = 1\n",
    "\n",
    "def findCategorys(country):\n",
    "    global categorys\n",
    "    categorys = {}\n",
    "    path = 'data/' + country + 'videos.csv'\n",
    "    data_df = pd.read_csv(path, encoding = 'utf-8', sep=',', error_bad_lines=False)\n",
    "    data_df2 = data_df.drop_duplicates(subset='video_id', keep='first')\n",
    "    for index, row in data_df2.iterrows():\n",
    "        findCategoryById(row['category_id'])\n",
    "    print('統計數量: ' + str(len(data_df2.index)))\n",
    "    print(pd.DataFrame(list(sorted(categorys.items(), key=lambda x:x[1], reverse=True)),columns=['category', 'total']))\n",
    "\n",
    "interact(findCategorys, country=dict(美國=\"US\", 日本=\"JP\", 加拿大='CA', 德國='DE', 法國='FR',\n",
    "                                英國='GB', 印度='IN', 墨西哥='MX', 南韓='KR', 俄羅斯='RU'))\n"
   ]
  },
  {
   "cell_type": "code",
   "execution_count": 3,
   "metadata": {},
   "outputs": [
    {
     "data": {
      "application/vnd.jupyter.widget-view+json": {
       "model_id": "5d4efbf2581543f18283c11807a11d2a",
       "version_major": 2,
       "version_minor": 0
      },
      "text/plain": [
       "interactive(children=(Dropdown(description='country', options={'美國': 'US', '日本': 'JP', '加拿大': 'CA', '德國': 'DE'…"
      ]
     },
     "metadata": {},
     "output_type": "display_data"
    },
    {
     "data": {
      "text/plain": [
       "<function __main__.findAuthors(country)>"
      ]
     },
     "execution_count": 3,
     "metadata": {},
     "output_type": "execute_result"
    }
   ],
   "source": [
    "authors = {}\n",
    "data_df2 = None\n",
    "\n",
    "def show_result(top_n):\n",
    "    print('統計數量: ' + str(len(data_df2.index)))\n",
    "    print(pd.DataFrame(list(sorted(authors.items(), key=lambda x:x[1], reverse=True)),columns=['author', 'total']).head(top_n))\n",
    "\n",
    "def findAuthors(country):\n",
    "    global authors\n",
    "    global data_df2\n",
    "    path = 'data/' + country + 'videos.csv'\n",
    "    data_df = pd.read_csv(path, encoding = 'utf-8', sep=',', error_bad_lines=False)\n",
    "    data_df2 = data_df.drop_duplicates(subset='video_id', keep='first')\n",
    "    authors = {}\n",
    "    for index, row in data_df2.iterrows():\n",
    "        author = row['channel_title']\n",
    "        if author in authors:\n",
    "            authors[author] = authors[author]+1\n",
    "        else:\n",
    "            authors[author] = 1\n",
    "    interact(show_result, top_n=(1,20))\n",
    "    \n",
    "    \n",
    "interact(findAuthors, country=dict(美國=\"US\", 日本=\"JP\", 加拿大='CA', 德國='DE', 法國='FR',\n",
    "                                英國='GB', 印度='IN', 墨西哥='MX', 南韓='KR', 俄羅斯='RU'))\n"
   ]
  },
  {
   "cell_type": "code",
   "execution_count": null,
   "metadata": {},
   "outputs": [],
   "source": []
  }
 ],
 "metadata": {
  "kernelspec": {
   "display_name": "Python 3",
   "language": "python",
   "name": "python3"
  },
  "language_info": {
   "codemirror_mode": {
    "name": "ipython",
    "version": 3
   },
   "file_extension": ".py",
   "mimetype": "text/x-python",
   "name": "python",
   "nbconvert_exporter": "python",
   "pygments_lexer": "ipython3",
   "version": "3.8.5"
  }
 },
 "nbformat": 4,
 "nbformat_minor": 4
}
